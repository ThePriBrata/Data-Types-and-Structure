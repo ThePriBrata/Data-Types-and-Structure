{
  "nbformat": 4,
  "nbformat_minor": 0,
  "metadata": {
    "colab": {
      "provenance": []
    },
    "kernelspec": {
      "name": "python3",
      "display_name": "Python 3"
    },
    "language_info": {
      "name": "python"
    }
  },
  "cells": [
    {
      "cell_type": "markdown",
      "source": [
        "# Data Types and Structures\n"
      ],
      "metadata": {
        "id": "-sUC24X1ow0e"
      }
    },
    {
      "cell_type": "markdown",
      "source": [
        "1. What are data structures, and why are they important?\n",
        "  -> Data structures are organized ways to store and manage data so that it can be accessed and modified efficiently. They are crucial in programming because they enable developers to handle large amounts of data efficiently and make algorithms more effective. Some common data structures include arrays, lists, stacks, queues, trees, and graphs.\n",
        "\n",
        "2. Explain the difference between mutable and immutable data types with examples.\n",
        " -> Mutable data types can be changed after their creation. Examples lists, dictionaries, and sets.\n",
        "\n",
        "  EX:\n",
        "  my_list = [1, 2, 3]\n",
        "  my_list[0] = 10  # List is mutable\n",
        "\n",
        "  Immutable data types cannot be changed once created. Examples tuples and strings.\n",
        "\n",
        "  EX:\n",
        "  my_tuple = (1, 2, 3)\n",
        "  my_tuple[0] = 10  # This will raise an error because tuple is immutable.\n",
        "\n",
        "3. What are the main differences between lists and tuples in Python?\n",
        "\n",
        "  Lists are mutable, whereas tuples are immutable.\n",
        "\n",
        "  Lists have more built-in methods compared to tuples.\n",
        "\n",
        "  Tuples are generally faster to iterate through than lists.\n",
        "\n",
        "4. Describe how dictionaries store data?\n",
        " -> Dictionaries store data as key-value pairs. Each key is unique, and it maps to a specific value. This allows for efficient data retrieval based on keys. For example:\n",
        "\n",
        "  EX:\n",
        "  my_dict = {'name': 'Priyabrata', 'age': 29}\n",
        "\n",
        "5. Why might you use a set instead of a list in Python?\n",
        " -> Sets are used when you need to store unique elements without duplicates. They also offer faster membership testing compared to lists. For example:\n",
        "\n",
        "  EX:\n",
        "  my_set = {1, 2, 3, 4, 5}\n",
        "\n",
        "6. What is a string in Python, and how is it different from a list?\n",
        " -> A string is a sequence of characters. It is immutable, meaning it cannot be changed after creation. Lists, on the other hand, are mutable and can contain elements of different data types.\n",
        "\n",
        "7. How do tuples ensure data integrity in Python?\n",
        "  -> Tuples are immutable, meaning once they are created, their elements cannot be changed. This immutability ensures that the data remains consistent and unaltered, providing data integrity.\n",
        "\n",
        "8. What is a hash table, and how does it relate to dictionaries in Python?\n",
        " -> A hash table is a data structure that maps keys to values using a hash function. Dictionaries in Python are implemented using hash tables, allowing for fast data retrieval based on keys.\n",
        "\n",
        "9. Can lists contain different data types in Python?\n",
        "  -> Yes, lists in Python can contain elements of different data types.\n",
        "\n",
        "  EX:\n",
        "  my_list = [1, 'hello', 3.14]\n",
        "\n",
        "10. Explain why strings are immutable in Python.\n",
        "  -> Strings are immutable to ensure that they remain consistent and are thread-safe. This immutability also allows for optimization techniques, such as string interning.\n",
        "\n",
        "11. What advantages do dictionaries offer over lists for certain tasks?\n",
        "\n",
        "  -> Dictionaries allow for faster data retrieval based on keys, making them suitable for tasks that require quick lookups. They also provide a way to store data as key-value pairs, which is more intuitive for certain applications.\n",
        "\n",
        "12. Describe a scenario where using a tuple would be preferable over a list.\n",
        "\n",
        "  ->Using a tuple is preferable when you need to store a collection of values that should not be changed, such as coordinates (x, y) or RGB color values.\n",
        "\n",
        "13. How do sets handle duplicate values in Python?\n",
        "  -> Sets automatically eliminate duplicate values. If you add duplicate elements to a set, only one instance of each element is kept.\n",
        "\n",
        "14. How does the \"in\" keyword work differently for lists and dictionaries?\n",
        "\n",
        "  -> For lists, the \"in\" keyword checks for the presence of an element.\n",
        "\n",
        "  EX:\n",
        "  my_list = [1, 2, 3]\n",
        "  1 in my_list  # True\n",
        "\n",
        "  For dictionaries, the \"in\" keyword checks for the presence of a key.\n",
        "\n",
        "  EX:\n",
        "  my_dict = {'name': 'Priyabrata', 'age': 29}\n",
        "  'name' in my_dict  # True\n",
        "\n",
        "15. Can you modify the elements of a tuple? Explain why or why not.\n",
        "  -> No, you cannot modify the elements of a tuple because tuples are immutable.\n",
        "\n",
        "16. What is a nested dictionary, and give an example of its use case?\n",
        "  -> A nested dictionary is a dictionary that contains another dictionary as a value. It is useful for representing hierarchical data.\n",
        "\n",
        "  EX:\n",
        "  nested_dict = {\n",
        "      'person': {\n",
        "          'name': 'Priyabrata',\n",
        "          'age': 29\n",
        "      }\n",
        "  }\n",
        "17. Describe the time complexity of accessing elements in a dictionary.\n",
        "  -> The average time complexity of accessing elements in a dictionary is O(1) due to the hash table implementation.\n",
        "\n",
        "18. In what situations are lists preferred over dictionaries?\n",
        "  -> Lists are preferred when the order of elements matters, or when you need to store multiple items without requiring key-based access.\n",
        "\n",
        "19. Why are dictionaries considered unordered, and how does that affect data retrieval?\n",
        "  -> Dictionaries are considered unordered because they do not maintain the order of keys. This means that the order in which items are added is not preserved, which can affect the sequence of data retrieval.\n",
        "\n",
        "20. Explain the difference between a list and a dictionary in terms of data retrieval.\n",
        "\n",
        "  -> Lists allow for indexed-based retrieval using integer indices.\n",
        "\n",
        "  EX:\n",
        "  my_list = [10, 20, 30]\n",
        "  print(my_list[1])  # 20\n",
        "  Dictionaries allow for key-based retrieval using unique keys.\n",
        "\n",
        "  EX:\n",
        "  my_dict = {'name': 'Priyabrata', 'age': 29}\n",
        "  print(my_dict['name'])  # Priyabrata\n",
        "\n"
      ],
      "metadata": {
        "id": "BYdSfreSo-SG"
      }
    },
    {
      "cell_type": "markdown",
      "source": [
        "# Practical Questions"
      ],
      "metadata": {
        "id": "65lTZcD6xBFP"
      }
    },
    {
      "cell_type": "code",
      "source": [
        "# 1. Create a string with your name and print it.\n",
        "name = \"Priyabrata Panda\"\n",
        "print(name)"
      ],
      "metadata": {
        "colab": {
          "base_uri": "https://localhost:8080/"
        },
        "id": "sTimX4eKwLlO",
        "outputId": "04fe6918-5b32-43cb-dcda-3c8bb9a18e2e"
      },
      "execution_count": 5,
      "outputs": [
        {
          "output_type": "stream",
          "name": "stdout",
          "text": [
            "Priyabrata Panda\n"
          ]
        }
      ]
    },
    {
      "cell_type": "code",
      "source": [
        "# 2. Find the length of the string \"Hello World\"\n",
        "string_length = len(\"Hello World\")\n",
        "print(string_length)"
      ],
      "metadata": {
        "colab": {
          "base_uri": "https://localhost:8080/"
        },
        "id": "ECPyEVa0w9LD",
        "outputId": "3c068fd7-a93d-43e8-af31-ab770f107bd0"
      },
      "execution_count": 6,
      "outputs": [
        {
          "output_type": "stream",
          "name": "stdout",
          "text": [
            "11\n"
          ]
        }
      ]
    },
    {
      "cell_type": "code",
      "source": [
        "# 3. Slice the first 3 characters from the string \"Python Programming\"\n",
        "sliced_string = \"Python Programming\"[:3]\n",
        "print(sliced_string)"
      ],
      "metadata": {
        "colab": {
          "base_uri": "https://localhost:8080/"
        },
        "id": "CeVDWlo8xZ77",
        "outputId": "d0c04794-4e4d-4359-f147-7d70954824b1"
      },
      "execution_count": 7,
      "outputs": [
        {
          "output_type": "stream",
          "name": "stdout",
          "text": [
            "Pyt\n"
          ]
        }
      ]
    },
    {
      "cell_type": "code",
      "source": [
        "# 4. Convert the string \"hello\" to uppercase\n",
        "uppercase_string = \"hello\".upper()\n",
        "print(uppercase_string)"
      ],
      "metadata": {
        "colab": {
          "base_uri": "https://localhost:8080/"
        },
        "id": "Bk9UPpPYxkcq",
        "outputId": "43db8534-2194-47fa-ed03-0ee36372dd28"
      },
      "execution_count": 8,
      "outputs": [
        {
          "output_type": "stream",
          "name": "stdout",
          "text": [
            "HELLO\n"
          ]
        }
      ]
    },
    {
      "cell_type": "code",
      "source": [
        "# 5. Replace the word \"apple\" with \"orange\" in the string \"I like apple\"\n",
        "replaced_string = \"I like apple\".replace(\"apple\", \"orange\")\n",
        "print(replaced_string)"
      ],
      "metadata": {
        "colab": {
          "base_uri": "https://localhost:8080/"
        },
        "id": "HX2UgFeOxvkW",
        "outputId": "8d07f0d2-2f0a-4e67-d2b6-fac9188567f9"
      },
      "execution_count": 9,
      "outputs": [
        {
          "output_type": "stream",
          "name": "stdout",
          "text": [
            "I like orange\n"
          ]
        }
      ]
    },
    {
      "cell_type": "code",
      "source": [
        "# 6. Create a list with numbers 1 to 5 and print it\n",
        "num_list = [1, 2, 3, 4, 5]\n",
        "print(num_list)"
      ],
      "metadata": {
        "colab": {
          "base_uri": "https://localhost:8080/"
        },
        "id": "QKFgYrbdx3J9",
        "outputId": "1bcdd5c7-563b-4d7a-d1eb-c569d3c3e10b"
      },
      "execution_count": 10,
      "outputs": [
        {
          "output_type": "stream",
          "name": "stdout",
          "text": [
            "[1, 2, 3, 4, 5]\n"
          ]
        }
      ]
    },
    {
      "cell_type": "code",
      "source": [
        "# 7. Append the number 10 to the list [1, 2, 3, 4]\n",
        "num_list2 = [1, 2, 3, 4]\n",
        "num_list2.append(10)\n",
        "print(num_list2)"
      ],
      "metadata": {
        "colab": {
          "base_uri": "https://localhost:8080/"
        },
        "id": "cQFqTDHzx8z-",
        "outputId": "7f16bd12-1eee-4af1-c43b-7b0e54e2c801"
      },
      "execution_count": 11,
      "outputs": [
        {
          "output_type": "stream",
          "name": "stdout",
          "text": [
            "[1, 2, 3, 4, 10]\n"
          ]
        }
      ]
    },
    {
      "cell_type": "code",
      "source": [
        "# 8. Remove the number 3 from the list [1, 2, 3, 4, 5]\n",
        "num_list3 = [1, 2, 3, 4, 5]\n",
        "num_list3.remove(3)\n",
        "print(num_list3)"
      ],
      "metadata": {
        "colab": {
          "base_uri": "https://localhost:8080/"
        },
        "id": "hLgjz2eiyAL8",
        "outputId": "5cef2f9b-a94c-44ae-c884-e3b4d004ddd4"
      },
      "execution_count": 12,
      "outputs": [
        {
          "output_type": "stream",
          "name": "stdout",
          "text": [
            "[1, 2, 4, 5]\n"
          ]
        }
      ]
    },
    {
      "cell_type": "code",
      "source": [
        "# 9. Access the second element in the list ['a', 'b', 'c', 'd']\n",
        "char_list = ['a', 'b', 'c', 'd']\n",
        "print(char_list[1])"
      ],
      "metadata": {
        "colab": {
          "base_uri": "https://localhost:8080/"
        },
        "id": "3Y_NMJcqyF61",
        "outputId": "95f9e546-14ab-497d-8a74-96c85b021d4b"
      },
      "execution_count": 13,
      "outputs": [
        {
          "output_type": "stream",
          "name": "stdout",
          "text": [
            "b\n"
          ]
        }
      ]
    },
    {
      "cell_type": "code",
      "source": [
        "# 10. Reverse the list [10, 20, 30, 40, 50]\n",
        "num_list4 = [10, 20, 30, 40, 50]\n",
        "num_list4.reverse()\n",
        "print(num_list4)"
      ],
      "metadata": {
        "colab": {
          "base_uri": "https://localhost:8080/"
        },
        "id": "Z9MO7hOhyKGU",
        "outputId": "f7e17309-e6f2-43a8-8f1a-997a54498aa3"
      },
      "execution_count": 14,
      "outputs": [
        {
          "output_type": "stream",
          "name": "stdout",
          "text": [
            "[50, 40, 30, 20, 10]\n"
          ]
        }
      ]
    },
    {
      "cell_type": "code",
      "source": [
        "# 11. Create a tuple with elements 100, 200, 300 and print it\n",
        "tup1 = (100, 200, 300)\n",
        "print(tup1)"
      ],
      "metadata": {
        "colab": {
          "base_uri": "https://localhost:8080/"
        },
        "id": "hHXVy2kiyP7y",
        "outputId": "632872e6-6c46-41f0-de56-c27e93838b2c"
      },
      "execution_count": 30,
      "outputs": [
        {
          "output_type": "stream",
          "name": "stdout",
          "text": [
            "(100, 200, 300)\n"
          ]
        }
      ]
    },
    {
      "cell_type": "code",
      "source": [
        "# 12. Access the second-to-last element of the tuple ('red', 'green', 'blue', 'yellow')\n",
        "tup2 = ('red', 'green', 'blue', 'yellow')\n",
        "print(tup2[-2])"
      ],
      "metadata": {
        "colab": {
          "base_uri": "https://localhost:8080/"
        },
        "id": "yxdYlnCnyV1z",
        "outputId": "bd078183-79b6-4e74-d94a-14bd9f3cdf6e"
      },
      "execution_count": 31,
      "outputs": [
        {
          "output_type": "stream",
          "name": "stdout",
          "text": [
            "blue\n"
          ]
        }
      ]
    },
    {
      "cell_type": "code",
      "source": [
        "# 13. Find the minimum number in the tuple (10, 20, 5, 15)\n",
        "tup3 = (10, 20, 5, 15)\n",
        "print(min(tup3))"
      ],
      "metadata": {
        "colab": {
          "base_uri": "https://localhost:8080/"
        },
        "id": "sYAZW850yYt1",
        "outputId": "53f29051-f93f-4c55-b829-34abc59285ff"
      },
      "execution_count": 32,
      "outputs": [
        {
          "output_type": "stream",
          "name": "stdout",
          "text": [
            "5\n"
          ]
        }
      ]
    },
    {
      "cell_type": "code",
      "source": [
        "# 14. Find the index of the element \"cat\" in the tuple ('dog', 'cat', 'rabbit')\n",
        "tup4 = ('dog', 'cat', 'rabbit')\n",
        "print(tup4.index(\"cat\"))"
      ],
      "metadata": {
        "colab": {
          "base_uri": "https://localhost:8080/"
        },
        "id": "LqiMDWwFycYB",
        "outputId": "6bae7334-db63-4365-e2c2-51d75c4c9c42"
      },
      "execution_count": 33,
      "outputs": [
        {
          "output_type": "stream",
          "name": "stdout",
          "text": [
            "1\n"
          ]
        }
      ]
    },
    {
      "cell_type": "code",
      "source": [
        "# 15. Create a tuple containing three different fruits and check if \"kiwi\" is in it\n",
        "fruits = ('apple', 'banana', 'kiwi')\n",
        "print(\"kiwi\" in fruits)"
      ],
      "metadata": {
        "colab": {
          "base_uri": "https://localhost:8080/"
        },
        "id": "WnC-USjOyf1a",
        "outputId": "531095f8-174f-4a1a-9d2c-5208a9abe52f"
      },
      "execution_count": 34,
      "outputs": [
        {
          "output_type": "stream",
          "name": "stdout",
          "text": [
            "True\n"
          ]
        }
      ]
    },
    {
      "cell_type": "code",
      "source": [
        "# 16. Create a set with elements 'a', 'b', 'c' and print it\n",
        "set1 = {'a', 'b', 'c'}\n",
        "print(set1)"
      ],
      "metadata": {
        "colab": {
          "base_uri": "https://localhost:8080/"
        },
        "id": "QaMHyfpUylCI",
        "outputId": "42a4e89f-0338-49bf-eff5-600ae45f27f5"
      },
      "execution_count": 35,
      "outputs": [
        {
          "output_type": "stream",
          "name": "stdout",
          "text": [
            "{'b', 'c', 'a'}\n"
          ]
        }
      ]
    },
    {
      "cell_type": "code",
      "source": [
        "# 17. Clear all elements from the set {1, 2, 3, 4, 5}\n",
        "set2 = {1, 2, 3, 4, 5}\n",
        "set2.clear()\n",
        "print(set2)"
      ],
      "metadata": {
        "colab": {
          "base_uri": "https://localhost:8080/"
        },
        "id": "IsDayBv1yon6",
        "outputId": "77f09f2c-5d61-4063-ff95-59a70c1478d2"
      },
      "execution_count": 36,
      "outputs": [
        {
          "output_type": "stream",
          "name": "stdout",
          "text": [
            "set()\n"
          ]
        }
      ]
    },
    {
      "cell_type": "code",
      "source": [
        "# 18. Remove the element 4 from the set {1, 2, 3, 4}\n",
        "set3 = {1, 2, 3, 4}\n",
        "set3.remove(4)\n",
        "print(set3)"
      ],
      "metadata": {
        "colab": {
          "base_uri": "https://localhost:8080/"
        },
        "id": "lCcQeTh3yrz5",
        "outputId": "90bb83c3-9f66-416c-ec36-bbf65276fa55"
      },
      "execution_count": 37,
      "outputs": [
        {
          "output_type": "stream",
          "name": "stdout",
          "text": [
            "{1, 2, 3}\n"
          ]
        }
      ]
    },
    {
      "cell_type": "code",
      "source": [
        "# 19. Find the union of two sets {1, 2, 3} and {3, 4, 5}\n",
        "set4 = {1, 2, 3}\n",
        "set5 = {3, 4, 5}\n",
        "print(set4.union(set5))\n"
      ],
      "metadata": {
        "colab": {
          "base_uri": "https://localhost:8080/"
        },
        "id": "jAkSDmCqyvCh",
        "outputId": "ab93a2c1-3d98-41cf-8a56-e4607c0ce78f"
      },
      "execution_count": 38,
      "outputs": [
        {
          "output_type": "stream",
          "name": "stdout",
          "text": [
            "{1, 2, 3, 4, 5}\n"
          ]
        }
      ]
    },
    {
      "cell_type": "code",
      "source": [
        "\n",
        "# 20. Find the intersection of two sets {1, 2, 3} and {2, 3, 4}\n",
        "set6 = {1, 2, 3}\n",
        "set7 = {2, 3, 4}\n",
        "print(set6.intersection(set7))"
      ],
      "metadata": {
        "colab": {
          "base_uri": "https://localhost:8080/"
        },
        "id": "f8tXJvyGy1aS",
        "outputId": "6fbb272b-09d1-426e-b870-fe78bae39acd"
      },
      "execution_count": 39,
      "outputs": [
        {
          "output_type": "stream",
          "name": "stdout",
          "text": [
            "{2, 3}\n"
          ]
        }
      ]
    },
    {
      "cell_type": "code",
      "source": [
        "# 21. Create a dictionary with keys \"name\", \"age\", and \"city\", and print it\n",
        "dict1 = {\"name\": \"Alice\", \"age\": 30, \"city\": \"New York\"}\n",
        "print(dict1)"
      ],
      "metadata": {
        "colab": {
          "base_uri": "https://localhost:8080/"
        },
        "id": "MZ8NYofVy4tC",
        "outputId": "1a69df0e-ebfc-43a9-b3ed-e01e071c74b9"
      },
      "execution_count": 40,
      "outputs": [
        {
          "output_type": "stream",
          "name": "stdout",
          "text": [
            "{'name': 'Alice', 'age': 30, 'city': 'New York'}\n"
          ]
        }
      ]
    },
    {
      "cell_type": "code",
      "source": [
        "# 22. Add a new key-value pair \"country\": \"USA\" to the dictionary {'name': 'John', 'age': 25}\n",
        "dict2 = {'name': 'John', 'age': 25}\n",
        "dict2[\"country\"] = \"USA\"\n",
        "print(dict2)"
      ],
      "metadata": {
        "colab": {
          "base_uri": "https://localhost:8080/"
        },
        "id": "YQqWcGcdy7vU",
        "outputId": "a93fa0b1-f97c-420b-8482-5f0d500a2914"
      },
      "execution_count": 41,
      "outputs": [
        {
          "output_type": "stream",
          "name": "stdout",
          "text": [
            "{'name': 'John', 'age': 25, 'country': 'USA'}\n"
          ]
        }
      ]
    },
    {
      "cell_type": "code",
      "source": [
        "# 23. Access the value associated with the key \"name\" in the dictionary {'name': 'Alice', 'age': 30}\n",
        "dict3 = {'name': 'Alice', 'age': 30}\n",
        "print(dict3[\"name\"])"
      ],
      "metadata": {
        "colab": {
          "base_uri": "https://localhost:8080/"
        },
        "id": "J--GIoliy_Jk",
        "outputId": "69a9b925-4354-40df-9faa-6428f0046942"
      },
      "execution_count": 42,
      "outputs": [
        {
          "output_type": "stream",
          "name": "stdout",
          "text": [
            "Alice\n"
          ]
        }
      ]
    },
    {
      "cell_type": "code",
      "source": [
        "# 24. Remove the key \"age\" from the dictionary {'name': 'Bob', 'age': 22, 'city': 'New York'}\n",
        "dict4 = {'name': 'Bob', 'age': 22, 'city': 'New York'}\n",
        "del dict4[\"age\"]\n",
        "print(dict4)"
      ],
      "metadata": {
        "colab": {
          "base_uri": "https://localhost:8080/"
        },
        "id": "ZAalOaEkzCda",
        "outputId": "89bc2e01-4bb4-4a09-bd58-435f94c93a1f"
      },
      "execution_count": 43,
      "outputs": [
        {
          "output_type": "stream",
          "name": "stdout",
          "text": [
            "{'name': 'Bob', 'city': 'New York'}\n"
          ]
        }
      ]
    },
    {
      "cell_type": "code",
      "source": [
        "# 25. Check if the key \"city\" exists in the dictionary {'name': 'Alice', 'city': 'Paris'}\n",
        "dict5 = {'name': 'Alice', 'city': 'Paris'}\n",
        "print(\"city\" in dict5)"
      ],
      "metadata": {
        "colab": {
          "base_uri": "https://localhost:8080/"
        },
        "id": "ypwSIfMVzFzt",
        "outputId": "1c58a231-38c1-40a7-beee-bed67d76a6fb"
      },
      "execution_count": 44,
      "outputs": [
        {
          "output_type": "stream",
          "name": "stdout",
          "text": [
            "True\n"
          ]
        }
      ]
    },
    {
      "cell_type": "code",
      "source": [
        "# 26. Create a list, a tuple, and a dictionary, and print them all\n",
        "list1 = [1, 2, 3]\n",
        "tuple1 = (4, 5, 6)\n",
        "dict6 = {'a': 7, 'b': 8, 'c': 9}\n",
        "print(list1, tuple1, dict6)"
      ],
      "metadata": {
        "colab": {
          "base_uri": "https://localhost:8080/"
        },
        "id": "Gtop0cLo_6V1",
        "outputId": "ee65bc61-8dda-4b69-ce98-bcc5cfa3ff31"
      },
      "execution_count": 45,
      "outputs": [
        {
          "output_type": "stream",
          "name": "stdout",
          "text": [
            "[1, 2, 3] (4, 5, 6) {'a': 7, 'b': 8, 'c': 9}\n"
          ]
        }
      ]
    },
    {
      "cell_type": "code",
      "source": [
        "# 27. Create a list of 5 random numbers between 1 and 100, sort it in ascending order, and print the result\n",
        "import random\n",
        "rand_list = random.sample(range(1, 101), 5)\n",
        "rand_list.sort()\n",
        "print(rand_list)"
      ],
      "metadata": {
        "colab": {
          "base_uri": "https://localhost:8080/"
        },
        "id": "V1_c-YYU__2T",
        "outputId": "f3fed3c6-b84f-488f-844c-9829bcccdd53"
      },
      "execution_count": 46,
      "outputs": [
        {
          "output_type": "stream",
          "name": "stdout",
          "text": [
            "[6, 14, 27, 54, 60]\n"
          ]
        }
      ]
    },
    {
      "cell_type": "code",
      "source": [
        "# 28. Create a list with strings and print the element at the third index\n",
        "list2 = [\"apple\", \"banana\", \"cherry\", \"date\", \"elderberry\"]\n",
        "print(list2[3])"
      ],
      "metadata": {
        "colab": {
          "base_uri": "https://localhost:8080/"
        },
        "id": "rk5N9WJLAMmP",
        "outputId": "581e3bfc-fdf9-4a00-d0b2-7ea14d8311f7"
      },
      "execution_count": 47,
      "outputs": [
        {
          "output_type": "stream",
          "name": "stdout",
          "text": [
            "date\n"
          ]
        }
      ]
    },
    {
      "cell_type": "code",
      "source": [
        "# 29. Combine two dictionaries into one and print the result\n",
        "dict7 = {\"a\": 1, \"b\": 2}\n",
        "dict8 = {\"c\": 3, \"d\": 4}\n",
        "combined_dict = {**dict7, **dict8}\n",
        "print(combined_dict)"
      ],
      "metadata": {
        "colab": {
          "base_uri": "https://localhost:8080/"
        },
        "id": "DeQCUW7hAQz3",
        "outputId": "8794f936-de19-4a66-c5ed-225336a43b31"
      },
      "execution_count": 48,
      "outputs": [
        {
          "output_type": "stream",
          "name": "stdout",
          "text": [
            "{'a': 1, 'b': 2, 'c': 3, 'd': 4}\n"
          ]
        }
      ]
    },
    {
      "cell_type": "code",
      "source": [
        "# 30. Convert a list of strings into a set\n",
        "list3 = [\"apple\", \"banana\", \"cherry\", \"banana\"]\n",
        "set_result = set(list3)\n",
        "print(set_result)"
      ],
      "metadata": {
        "colab": {
          "base_uri": "https://localhost:8080/"
        },
        "id": "tFRKm3vDAVxu",
        "outputId": "d60bea0b-0c90-4e91-d490-089e9de223ec"
      },
      "execution_count": 49,
      "outputs": [
        {
          "output_type": "stream",
          "name": "stdout",
          "text": [
            "{'apple', 'cherry', 'banana'}\n"
          ]
        }
      ]
    },
    {
      "cell_type": "code",
      "source": [],
      "metadata": {
        "id": "fmsJpWu4AZ9h"
      },
      "execution_count": null,
      "outputs": []
    }
  ]
}